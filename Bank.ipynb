{
 "cells": [
  {
   "cell_type": "markdown",
   "metadata": {},
   "source": [
    "# Kiểu dữ liệu"
   ]
  },
  {
   "cell_type": "code",
   "execution_count": 86,
   "metadata": {},
   "outputs": [],
   "source": [
    "import pandas as pd"
   ]
  },
  {
   "cell_type": "code",
   "execution_count": 87,
   "metadata": {},
   "outputs": [
    {
     "data": {
      "text/html": [
       "<div>\n",
       "<style scoped>\n",
       "    .dataframe tbody tr th:only-of-type {\n",
       "        vertical-align: middle;\n",
       "    }\n",
       "\n",
       "    .dataframe tbody tr th {\n",
       "        vertical-align: top;\n",
       "    }\n",
       "\n",
       "    .dataframe thead th {\n",
       "        text-align: right;\n",
       "    }\n",
       "</style>\n",
       "<table border=\"1\" class=\"dataframe\">\n",
       "  <thead>\n",
       "    <tr style=\"text-align: right;\">\n",
       "      <th></th>\n",
       "      <th>age</th>\n",
       "      <th>job</th>\n",
       "      <th>marital</th>\n",
       "      <th>education</th>\n",
       "      <th>balance</th>\n",
       "      <th>housing</th>\n",
       "      <th>loan</th>\n",
       "      <th>contact</th>\n",
       "      <th>day</th>\n",
       "      <th>month</th>\n",
       "    </tr>\n",
       "  </thead>\n",
       "  <tbody>\n",
       "    <tr>\n",
       "      <td>0</td>\n",
       "      <td>30</td>\n",
       "      <td>unemployed</td>\n",
       "      <td>married</td>\n",
       "      <td>primary</td>\n",
       "      <td>1787</td>\n",
       "      <td>no</td>\n",
       "      <td>no</td>\n",
       "      <td>cellular</td>\n",
       "      <td>19</td>\n",
       "      <td>oct</td>\n",
       "    </tr>\n",
       "    <tr>\n",
       "      <td>1</td>\n",
       "      <td>33</td>\n",
       "      <td>services</td>\n",
       "      <td>NaN</td>\n",
       "      <td>secondary</td>\n",
       "      <td>4789</td>\n",
       "      <td>yes</td>\n",
       "      <td>yes</td>\n",
       "      <td>cellular</td>\n",
       "      <td>11</td>\n",
       "      <td>may</td>\n",
       "    </tr>\n",
       "    <tr>\n",
       "      <td>2</td>\n",
       "      <td>35</td>\n",
       "      <td>management</td>\n",
       "      <td>single</td>\n",
       "      <td>NaN</td>\n",
       "      <td>1350</td>\n",
       "      <td>yes</td>\n",
       "      <td>no</td>\n",
       "      <td>cellular</td>\n",
       "      <td>16</td>\n",
       "      <td>apr</td>\n",
       "    </tr>\n",
       "    <tr>\n",
       "      <td>3</td>\n",
       "      <td>30</td>\n",
       "      <td>management</td>\n",
       "      <td>married</td>\n",
       "      <td>tertiary</td>\n",
       "      <td>1476</td>\n",
       "      <td>NaN</td>\n",
       "      <td>yes</td>\n",
       "      <td>unknown</td>\n",
       "      <td>3</td>\n",
       "      <td>jun</td>\n",
       "    </tr>\n",
       "    <tr>\n",
       "      <td>4</td>\n",
       "      <td>59</td>\n",
       "      <td>blue-collar</td>\n",
       "      <td>married</td>\n",
       "      <td>secondary</td>\n",
       "      <td>0</td>\n",
       "      <td>yes</td>\n",
       "      <td>no</td>\n",
       "      <td>unknown</td>\n",
       "      <td>5</td>\n",
       "      <td>may</td>\n",
       "    </tr>\n",
       "  </tbody>\n",
       "</table>\n",
       "</div>"
      ],
      "text/plain": [
       "   age          job  marital  education  balance housing loan   contact  day  \\\n",
       "0   30   unemployed  married    primary     1787      no   no  cellular   19   \n",
       "1   33     services      NaN  secondary     4789     yes  yes  cellular   11   \n",
       "2   35   management   single        NaN     1350     yes   no  cellular   16   \n",
       "3   30   management  married   tertiary     1476     NaN  yes   unknown    3   \n",
       "4   59  blue-collar  married  secondary        0     yes   no   unknown    5   \n",
       "\n",
       "  month  \n",
       "0   oct  \n",
       "1   may  \n",
       "2   apr  \n",
       "3   jun  \n",
       "4   may  "
      ]
     },
     "execution_count": 87,
     "metadata": {},
     "output_type": "execute_result"
    }
   ],
   "source": [
    "df=pd.read_csv(\"bank.csv\",delimiter=\";\")\n",
    "df.head(5)"
   ]
  },
  {
   "cell_type": "markdown",
   "metadata": {},
   "source": [
    "+ age: Discrete. Vì kiểu số, có thể tính toán được, chứa các giá trị rời rạc\n",
    "+ job: Norminal. Vì không tính toán được, cũng không có thứ tự\n",
    "+ marital: Norminal. Vì không tính toán được, cũng không có thứ tự\n",
    "+ education: Ordinal. Không phải kiểu số, có thư tự, trình độ học vấn -> có cấp bậc\n",
    "+ balance: Continous. Vì kiểu số, có thể tính toán được, chứa các giá trị liên tục,\n",
    "    miền giá trị của nó rải đều trên một trục số thực và không thể đếm được\n",
    "+ housing: Norminal. Vì không tính toán được, cũng không có thứ tự\n",
    "+ loan: Norminal. Vì không tính toán được, cũng không có thứ tự\n",
    "+ contact: Norminal. Vì không tính toán được, cũng không có thứ tự\n",
    "+ day: Norminal. Vì không tính toán được, mang tính định tính ko phải định lượng,\n",
    "    cũng không có thứ tự\n",
    "+ month: Norminal. Vì không tính toán được, mang tính định tính ko phải định lượng,\n",
    "    cũng không có thứ tự"
   ]
  },
  {
   "cell_type": "markdown",
   "metadata": {},
   "source": [
    "# Xử lý missing"
   ]
  },
  {
   "cell_type": "code",
   "execution_count": 88,
   "metadata": {},
   "outputs": [
    {
     "data": {
      "text/plain": [
       "age          0\n",
       "job          1\n",
       "marital      2\n",
       "education    1\n",
       "balance      0\n",
       "housing      1\n",
       "loan         0\n",
       "contact      1\n",
       "day          0\n",
       "month        1\n",
       "dtype: int64"
      ]
     },
     "execution_count": 88,
     "metadata": {},
     "output_type": "execute_result"
    }
   ],
   "source": [
    "df.isnull().sum()"
   ]
  },
  {
   "cell_type": "markdown",
   "metadata": {},
   "source": [
    "Cần xử lý missing với các cột job, marital, education, housing, contact, month"
   ]
  },
  {
   "cell_type": "code",
   "execution_count": 89,
   "metadata": {},
   "outputs": [],
   "source": [
    "from sklearn.impute import SimpleImputer\n",
    "import numpy as np"
   ]
  },
  {
   "cell_type": "code",
   "execution_count": 90,
   "metadata": {},
   "outputs": [
    {
     "data": {
      "text/plain": [
       "array([[30, 'unemployed', 'married', 'primary', 1787, 'no', 'no',\n",
       "        'cellular', 19, 'oct'],\n",
       "       [33, 'services', nan, 'secondary', 4789, 'yes', 'yes', 'cellular',\n",
       "        11, 'may'],\n",
       "       [35, 'management', 'single', nan, 1350, 'yes', 'no', 'cellular',\n",
       "        16, 'apr'],\n",
       "       [30, 'management', 'married', 'tertiary', 1476, nan, 'yes',\n",
       "        'unknown', 3, 'jun'],\n",
       "       [59, 'blue-collar', 'married', 'secondary', 0, 'yes', 'no',\n",
       "        'unknown', 5, 'may'],\n",
       "       [35, 'management', 'single', 'tertiary', 747, 'no', 'no',\n",
       "        'cellular', 23, 'feb'],\n",
       "       [36, 'self-employed', 'married', 'tertiary', 307, 'yes', 'no',\n",
       "        'cellular', 14, 'may'],\n",
       "       [39, 'technician', 'married', 'secondary', 147, 'yes', 'no',\n",
       "        'cellular', 6, 'may'],\n",
       "       [41, 'entrepreneur', 'married', 'tertiary', 221, 'yes', 'no',\n",
       "        'unknown', 14, 'may'],\n",
       "       [43, 'services', 'married', 'primary', -88, 'yes', 'yes',\n",
       "        'cellular', 17, 'apr'],\n",
       "       [39, 'services', 'married', 'secondary', 9374, 'yes', 'no',\n",
       "        'unknown', 20, 'may'],\n",
       "       [43, 'admin.', 'married', 'secondary', 264, 'yes', 'no',\n",
       "        'cellular', 17, 'apr'],\n",
       "       [36, 'technician', 'married', 'tertiary', 1109, 'no', 'no',\n",
       "        'cellular', 13, 'aug'],\n",
       "       [20, 'student', 'single', 'secondary', 502, 'no', 'no',\n",
       "        'cellular', 30, 'apr'],\n",
       "       [31, 'blue-collar', 'married', 'secondary', 360, 'yes', 'yes',\n",
       "        'cellular', 29, 'jan'],\n",
       "       [40, 'management', 'married', 'tertiary', 194, 'no', 'yes',\n",
       "        'cellular', 29, nan],\n",
       "       [56, 'management', 'married', 'secondary', 4073, 'no', 'no', nan,\n",
       "        27, 'aug'],\n",
       "       [37, 'admin.', nan, 'tertiary', 2317, 'yes', 'no', 'cellular', 20,\n",
       "        'apr'],\n",
       "       [25, 'blue-collar', 'single', 'primary', -221, 'yes', 'no',\n",
       "        'unknown', 23, 'may']], dtype=object)"
      ]
     },
     "execution_count": 90,
     "metadata": {},
     "output_type": "execute_result"
    }
   ],
   "source": [
    "# job\n",
    "job_impute=SimpleImputer(np.nan,strategy=\"most_frequent\")\n",
    "X=df.values\n",
    "X[:,1]=job_impute.fit_transform(X[:,1].reshape(-1,1)).ravel()\n",
    "X"
   ]
  },
  {
   "cell_type": "code",
   "execution_count": 91,
   "metadata": {},
   "outputs": [
    {
     "data": {
      "text/plain": [
       "array([[30, 'unemployed', 'married', 'primary', 1787, 'no', 'no',\n",
       "        'cellular', 19, 'oct'],\n",
       "       [33, 'services', 'married', 'secondary', 4789, 'yes', 'yes',\n",
       "        'cellular', 11, 'may'],\n",
       "       [35, 'management', 'single', nan, 1350, 'yes', 'no', 'cellular',\n",
       "        16, 'apr'],\n",
       "       [30, 'management', 'married', 'tertiary', 1476, nan, 'yes',\n",
       "        'unknown', 3, 'jun'],\n",
       "       [59, 'blue-collar', 'married', 'secondary', 0, 'yes', 'no',\n",
       "        'unknown', 5, 'may'],\n",
       "       [35, 'management', 'single', 'tertiary', 747, 'no', 'no',\n",
       "        'cellular', 23, 'feb'],\n",
       "       [36, 'self-employed', 'married', 'tertiary', 307, 'yes', 'no',\n",
       "        'cellular', 14, 'may'],\n",
       "       [39, 'technician', 'married', 'secondary', 147, 'yes', 'no',\n",
       "        'cellular', 6, 'may'],\n",
       "       [41, 'entrepreneur', 'married', 'tertiary', 221, 'yes', 'no',\n",
       "        'unknown', 14, 'may'],\n",
       "       [43, 'services', 'married', 'primary', -88, 'yes', 'yes',\n",
       "        'cellular', 17, 'apr'],\n",
       "       [39, 'services', 'married', 'secondary', 9374, 'yes', 'no',\n",
       "        'unknown', 20, 'may'],\n",
       "       [43, 'admin.', 'married', 'secondary', 264, 'yes', 'no',\n",
       "        'cellular', 17, 'apr'],\n",
       "       [36, 'technician', 'married', 'tertiary', 1109, 'no', 'no',\n",
       "        'cellular', 13, 'aug'],\n",
       "       [20, 'student', 'single', 'secondary', 502, 'no', 'no',\n",
       "        'cellular', 30, 'apr'],\n",
       "       [31, 'blue-collar', 'married', 'secondary', 360, 'yes', 'yes',\n",
       "        'cellular', 29, 'jan'],\n",
       "       [40, 'management', 'married', 'tertiary', 194, 'no', 'yes',\n",
       "        'cellular', 29, nan],\n",
       "       [56, 'management', 'married', 'secondary', 4073, 'no', 'no', nan,\n",
       "        27, 'aug'],\n",
       "       [37, 'admin.', 'married', 'tertiary', 2317, 'yes', 'no',\n",
       "        'cellular', 20, 'apr'],\n",
       "       [25, 'blue-collar', 'single', 'primary', -221, 'yes', 'no',\n",
       "        'unknown', 23, 'may']], dtype=object)"
      ]
     },
     "execution_count": 91,
     "metadata": {},
     "output_type": "execute_result"
    }
   ],
   "source": [
    "# marital      \n",
    "marital_impute=SimpleImputer(np.nan,strategy=\"most_frequent\")\n",
    "X[:,2]=marital_impute.fit_transform(X[:,2].reshape(-1,1)).ravel()\n",
    "X"
   ]
  },
  {
   "cell_type": "code",
   "execution_count": 92,
   "metadata": {},
   "outputs": [
    {
     "data": {
      "text/plain": [
       "array([[30, 'unemployed', 'married', 'primary', 1787, 'no', 'no',\n",
       "        'cellular', 19, 'oct'],\n",
       "       [33, 'services', 'married', 'secondary', 4789, 'yes', 'yes',\n",
       "        'cellular', 11, 'may'],\n",
       "       [35, 'management', 'single', 'secondary', 1350, 'yes', 'no',\n",
       "        'cellular', 16, 'apr'],\n",
       "       [30, 'management', 'married', 'tertiary', 1476, nan, 'yes',\n",
       "        'unknown', 3, 'jun'],\n",
       "       [59, 'blue-collar', 'married', 'secondary', 0, 'yes', 'no',\n",
       "        'unknown', 5, 'may'],\n",
       "       [35, 'management', 'single', 'tertiary', 747, 'no', 'no',\n",
       "        'cellular', 23, 'feb'],\n",
       "       [36, 'self-employed', 'married', 'tertiary', 307, 'yes', 'no',\n",
       "        'cellular', 14, 'may'],\n",
       "       [39, 'technician', 'married', 'secondary', 147, 'yes', 'no',\n",
       "        'cellular', 6, 'may'],\n",
       "       [41, 'entrepreneur', 'married', 'tertiary', 221, 'yes', 'no',\n",
       "        'unknown', 14, 'may'],\n",
       "       [43, 'services', 'married', 'primary', -88, 'yes', 'yes',\n",
       "        'cellular', 17, 'apr'],\n",
       "       [39, 'services', 'married', 'secondary', 9374, 'yes', 'no',\n",
       "        'unknown', 20, 'may'],\n",
       "       [43, 'admin.', 'married', 'secondary', 264, 'yes', 'no',\n",
       "        'cellular', 17, 'apr'],\n",
       "       [36, 'technician', 'married', 'tertiary', 1109, 'no', 'no',\n",
       "        'cellular', 13, 'aug'],\n",
       "       [20, 'student', 'single', 'secondary', 502, 'no', 'no',\n",
       "        'cellular', 30, 'apr'],\n",
       "       [31, 'blue-collar', 'married', 'secondary', 360, 'yes', 'yes',\n",
       "        'cellular', 29, 'jan'],\n",
       "       [40, 'management', 'married', 'tertiary', 194, 'no', 'yes',\n",
       "        'cellular', 29, nan],\n",
       "       [56, 'management', 'married', 'secondary', 4073, 'no', 'no', nan,\n",
       "        27, 'aug'],\n",
       "       [37, 'admin.', 'married', 'tertiary', 2317, 'yes', 'no',\n",
       "        'cellular', 20, 'apr'],\n",
       "       [25, 'blue-collar', 'single', 'primary', -221, 'yes', 'no',\n",
       "        'unknown', 23, 'may']], dtype=object)"
      ]
     },
     "execution_count": 92,
     "metadata": {},
     "output_type": "execute_result"
    }
   ],
   "source": [
    "# education\n",
    "education_impute=SimpleImputer(np.nan,strategy=\"most_frequent\")\n",
    "X[:,3]=education_impute.fit_transform(X[:,3].reshape(-1,1)).ravel()\n",
    "X"
   ]
  },
  {
   "cell_type": "code",
   "execution_count": 93,
   "metadata": {},
   "outputs": [
    {
     "data": {
      "text/plain": [
       "array([[30, 'unemployed', 'married', 'primary', 1787, 'no', 'no',\n",
       "        'cellular', 19, 'oct'],\n",
       "       [33, 'services', 'married', 'secondary', 4789, 'yes', 'yes',\n",
       "        'cellular', 11, 'may'],\n",
       "       [35, 'management', 'single', 'secondary', 1350, 'yes', 'no',\n",
       "        'cellular', 16, 'apr'],\n",
       "       [30, 'management', 'married', 'tertiary', 1476, 'yes', 'yes',\n",
       "        'unknown', 3, 'jun'],\n",
       "       [59, 'blue-collar', 'married', 'secondary', 0, 'yes', 'no',\n",
       "        'unknown', 5, 'may'],\n",
       "       [35, 'management', 'single', 'tertiary', 747, 'no', 'no',\n",
       "        'cellular', 23, 'feb'],\n",
       "       [36, 'self-employed', 'married', 'tertiary', 307, 'yes', 'no',\n",
       "        'cellular', 14, 'may'],\n",
       "       [39, 'technician', 'married', 'secondary', 147, 'yes', 'no',\n",
       "        'cellular', 6, 'may'],\n",
       "       [41, 'entrepreneur', 'married', 'tertiary', 221, 'yes', 'no',\n",
       "        'unknown', 14, 'may'],\n",
       "       [43, 'services', 'married', 'primary', -88, 'yes', 'yes',\n",
       "        'cellular', 17, 'apr'],\n",
       "       [39, 'services', 'married', 'secondary', 9374, 'yes', 'no',\n",
       "        'unknown', 20, 'may'],\n",
       "       [43, 'admin.', 'married', 'secondary', 264, 'yes', 'no',\n",
       "        'cellular', 17, 'apr'],\n",
       "       [36, 'technician', 'married', 'tertiary', 1109, 'no', 'no',\n",
       "        'cellular', 13, 'aug'],\n",
       "       [20, 'student', 'single', 'secondary', 502, 'no', 'no',\n",
       "        'cellular', 30, 'apr'],\n",
       "       [31, 'blue-collar', 'married', 'secondary', 360, 'yes', 'yes',\n",
       "        'cellular', 29, 'jan'],\n",
       "       [40, 'management', 'married', 'tertiary', 194, 'no', 'yes',\n",
       "        'cellular', 29, nan],\n",
       "       [56, 'management', 'married', 'secondary', 4073, 'no', 'no', nan,\n",
       "        27, 'aug'],\n",
       "       [37, 'admin.', 'married', 'tertiary', 2317, 'yes', 'no',\n",
       "        'cellular', 20, 'apr'],\n",
       "       [25, 'blue-collar', 'single', 'primary', -221, 'yes', 'no',\n",
       "        'unknown', 23, 'may']], dtype=object)"
      ]
     },
     "execution_count": 93,
     "metadata": {},
     "output_type": "execute_result"
    }
   ],
   "source": [
    "# housing\n",
    "housing_impute=SimpleImputer(np.nan,strategy=\"most_frequent\")\n",
    "X[:,5]=housing_impute.fit_transform(X[:,5].reshape(-1,1)).ravel()\n",
    "X"
   ]
  },
  {
   "cell_type": "code",
   "execution_count": 94,
   "metadata": {},
   "outputs": [
    {
     "data": {
      "text/plain": [
       "array([[30, 'unemployed', 'married', 'primary', 1787, 'no', 'no',\n",
       "        'cellular', 19, 'oct'],\n",
       "       [33, 'services', 'married', 'secondary', 4789, 'yes', 'yes',\n",
       "        'cellular', 11, 'may'],\n",
       "       [35, 'management', 'single', 'secondary', 1350, 'yes', 'no',\n",
       "        'cellular', 16, 'apr'],\n",
       "       [30, 'management', 'married', 'tertiary', 1476, 'yes', 'yes',\n",
       "        'unknown', 3, 'jun'],\n",
       "       [59, 'blue-collar', 'married', 'secondary', 0, 'yes', 'no',\n",
       "        'unknown', 5, 'may'],\n",
       "       [35, 'management', 'single', 'tertiary', 747, 'no', 'no',\n",
       "        'cellular', 23, 'feb'],\n",
       "       [36, 'self-employed', 'married', 'tertiary', 307, 'yes', 'no',\n",
       "        'cellular', 14, 'may'],\n",
       "       [39, 'technician', 'married', 'secondary', 147, 'yes', 'no',\n",
       "        'cellular', 6, 'may'],\n",
       "       [41, 'entrepreneur', 'married', 'tertiary', 221, 'yes', 'no',\n",
       "        'unknown', 14, 'may'],\n",
       "       [43, 'services', 'married', 'primary', -88, 'yes', 'yes',\n",
       "        'cellular', 17, 'apr'],\n",
       "       [39, 'services', 'married', 'secondary', 9374, 'yes', 'no',\n",
       "        'unknown', 20, 'may'],\n",
       "       [43, 'admin.', 'married', 'secondary', 264, 'yes', 'no',\n",
       "        'cellular', 17, 'apr'],\n",
       "       [36, 'technician', 'married', 'tertiary', 1109, 'no', 'no',\n",
       "        'cellular', 13, 'aug'],\n",
       "       [20, 'student', 'single', 'secondary', 502, 'no', 'no',\n",
       "        'cellular', 30, 'apr'],\n",
       "       [31, 'blue-collar', 'married', 'secondary', 360, 'yes', 'yes',\n",
       "        'cellular', 29, 'jan'],\n",
       "       [40, 'management', 'married', 'tertiary', 194, 'no', 'yes',\n",
       "        'cellular', 29, nan],\n",
       "       [56, 'management', 'married', 'secondary', 4073, 'no', 'no',\n",
       "        'cellular', 27, 'aug'],\n",
       "       [37, 'admin.', 'married', 'tertiary', 2317, 'yes', 'no',\n",
       "        'cellular', 20, 'apr'],\n",
       "       [25, 'blue-collar', 'single', 'primary', -221, 'yes', 'no',\n",
       "        'unknown', 23, 'may']], dtype=object)"
      ]
     },
     "execution_count": 94,
     "metadata": {},
     "output_type": "execute_result"
    }
   ],
   "source": [
    "# contact\n",
    "contact_impute=SimpleImputer(np.nan,strategy=\"most_frequent\")\n",
    "X[:,-3]=contact_impute.fit_transform(X[:,-3].reshape(-1,1)).ravel()\n",
    "X"
   ]
  },
  {
   "cell_type": "code",
   "execution_count": 95,
   "metadata": {},
   "outputs": [
    {
     "data": {
      "text/plain": [
       "array([[30, 'unemployed', 'married', 'primary', 1787, 'no', 'no',\n",
       "        'cellular', 19, 'oct'],\n",
       "       [33, 'services', 'married', 'secondary', 4789, 'yes', 'yes',\n",
       "        'cellular', 11, 'may'],\n",
       "       [35, 'management', 'single', 'secondary', 1350, 'yes', 'no',\n",
       "        'cellular', 16, 'apr'],\n",
       "       [30, 'management', 'married', 'tertiary', 1476, 'yes', 'yes',\n",
       "        'unknown', 3, 'jun'],\n",
       "       [59, 'blue-collar', 'married', 'secondary', 0, 'yes', 'no',\n",
       "        'unknown', 5, 'may'],\n",
       "       [35, 'management', 'single', 'tertiary', 747, 'no', 'no',\n",
       "        'cellular', 23, 'feb'],\n",
       "       [36, 'self-employed', 'married', 'tertiary', 307, 'yes', 'no',\n",
       "        'cellular', 14, 'may'],\n",
       "       [39, 'technician', 'married', 'secondary', 147, 'yes', 'no',\n",
       "        'cellular', 6, 'may'],\n",
       "       [41, 'entrepreneur', 'married', 'tertiary', 221, 'yes', 'no',\n",
       "        'unknown', 14, 'may'],\n",
       "       [43, 'services', 'married', 'primary', -88, 'yes', 'yes',\n",
       "        'cellular', 17, 'apr'],\n",
       "       [39, 'services', 'married', 'secondary', 9374, 'yes', 'no',\n",
       "        'unknown', 20, 'may'],\n",
       "       [43, 'admin.', 'married', 'secondary', 264, 'yes', 'no',\n",
       "        'cellular', 17, 'apr'],\n",
       "       [36, 'technician', 'married', 'tertiary', 1109, 'no', 'no',\n",
       "        'cellular', 13, 'aug'],\n",
       "       [20, 'student', 'single', 'secondary', 502, 'no', 'no',\n",
       "        'cellular', 30, 'apr'],\n",
       "       [31, 'blue-collar', 'married', 'secondary', 360, 'yes', 'yes',\n",
       "        'cellular', 29, 'jan'],\n",
       "       [40, 'management', 'married', 'tertiary', 194, 'no', 'yes',\n",
       "        'cellular', 29, 'may'],\n",
       "       [56, 'management', 'married', 'secondary', 4073, 'no', 'no',\n",
       "        'cellular', 27, 'aug'],\n",
       "       [37, 'admin.', 'married', 'tertiary', 2317, 'yes', 'no',\n",
       "        'cellular', 20, 'apr'],\n",
       "       [25, 'blue-collar', 'single', 'primary', -221, 'yes', 'no',\n",
       "        'unknown', 23, 'may']], dtype=object)"
      ]
     },
     "execution_count": 95,
     "metadata": {},
     "output_type": "execute_result"
    }
   ],
   "source": [
    "# month\n",
    "contact_impute=SimpleImputer(np.nan,strategy=\"most_frequent\")\n",
    "X[:,-1]=contact_impute.fit_transform(X[:,-1].reshape(-1,1)).ravel()\n",
    "X"
   ]
  },
  {
   "cell_type": "markdown",
   "metadata": {},
   "source": [
    "# Mã hóa dữ liệu"
   ]
  },
  {
   "cell_type": "code",
   "execution_count": 96,
   "metadata": {},
   "outputs": [],
   "source": [
    "from sklearn.preprocessing import LabelEncoder\n",
    "from sklearn.preprocessing import OneHotEncoder\n",
    "from sklearn.preprocessing import StandardScaler, MinMaxScaler"
   ]
  },
  {
   "cell_type": "code",
   "execution_count": 97,
   "metadata": {},
   "outputs": [
    {
     "data": {
      "text/plain": [
       "array(['married', 'married', 'single', 'married', 'married', 'single',\n",
       "       'married', 'married', 'married', 'married', 'married', 'married',\n",
       "       'married', 'single', 'married', 'married', 'married', 'married',\n",
       "       'single'], dtype=object)"
      ]
     },
     "execution_count": 97,
     "metadata": {},
     "output_type": "execute_result"
    }
   ],
   "source": [
    "X[:,2]"
   ]
  },
  {
   "cell_type": "code",
   "execution_count": 98,
   "metadata": {},
   "outputs": [
    {
     "data": {
      "text/plain": [
       "array([[30, 'unemployed', 0, 'primary', 1787, 'no', 'no', 'cellular', 19,\n",
       "        'oct'],\n",
       "       [33, 'services', 0, 'secondary', 4789, 'yes', 'yes', 'cellular',\n",
       "        11, 'may'],\n",
       "       [35, 'management', 1, 'secondary', 1350, 'yes', 'no', 'cellular',\n",
       "        16, 'apr'],\n",
       "       [30, 'management', 0, 'tertiary', 1476, 'yes', 'yes', 'unknown',\n",
       "        3, 'jun'],\n",
       "       [59, 'blue-collar', 0, 'secondary', 0, 'yes', 'no', 'unknown', 5,\n",
       "        'may'],\n",
       "       [35, 'management', 1, 'tertiary', 747, 'no', 'no', 'cellular', 23,\n",
       "        'feb'],\n",
       "       [36, 'self-employed', 0, 'tertiary', 307, 'yes', 'no', 'cellular',\n",
       "        14, 'may'],\n",
       "       [39, 'technician', 0, 'secondary', 147, 'yes', 'no', 'cellular',\n",
       "        6, 'may'],\n",
       "       [41, 'entrepreneur', 0, 'tertiary', 221, 'yes', 'no', 'unknown',\n",
       "        14, 'may'],\n",
       "       [43, 'services', 0, 'primary', -88, 'yes', 'yes', 'cellular', 17,\n",
       "        'apr'],\n",
       "       [39, 'services', 0, 'secondary', 9374, 'yes', 'no', 'unknown', 20,\n",
       "        'may'],\n",
       "       [43, 'admin.', 0, 'secondary', 264, 'yes', 'no', 'cellular', 17,\n",
       "        'apr'],\n",
       "       [36, 'technician', 0, 'tertiary', 1109, 'no', 'no', 'cellular',\n",
       "        13, 'aug'],\n",
       "       [20, 'student', 1, 'secondary', 502, 'no', 'no', 'cellular', 30,\n",
       "        'apr'],\n",
       "       [31, 'blue-collar', 0, 'secondary', 360, 'yes', 'yes', 'cellular',\n",
       "        29, 'jan'],\n",
       "       [40, 'management', 0, 'tertiary', 194, 'no', 'yes', 'cellular',\n",
       "        29, 'may'],\n",
       "       [56, 'management', 0, 'secondary', 4073, 'no', 'no', 'cellular',\n",
       "        27, 'aug'],\n",
       "       [37, 'admin.', 0, 'tertiary', 2317, 'yes', 'no', 'cellular', 20,\n",
       "        'apr'],\n",
       "       [25, 'blue-collar', 1, 'primary', -221, 'yes', 'no', 'unknown',\n",
       "        23, 'may']], dtype=object)"
      ]
     },
     "execution_count": 98,
     "metadata": {},
     "output_type": "execute_result"
    }
   ],
   "source": [
    "# marital\n",
    "marital_label_encoder= LabelEncoder()\n",
    "X[:,2]=marital_label_encoder.fit_transform(X[:,2])\n",
    "X"
   ]
  },
  {
   "cell_type": "code",
   "execution_count": 99,
   "metadata": {},
   "outputs": [
    {
     "data": {
      "text/plain": [
       "array([[30, 'unemployed', 0, 'primary', 1787, 0, 'no', 'cellular', 19,\n",
       "        'oct'],\n",
       "       [33, 'services', 0, 'secondary', 4789, 1, 'yes', 'cellular', 11,\n",
       "        'may'],\n",
       "       [35, 'management', 1, 'secondary', 1350, 1, 'no', 'cellular', 16,\n",
       "        'apr'],\n",
       "       [30, 'management', 0, 'tertiary', 1476, 1, 'yes', 'unknown', 3,\n",
       "        'jun'],\n",
       "       [59, 'blue-collar', 0, 'secondary', 0, 1, 'no', 'unknown', 5,\n",
       "        'may'],\n",
       "       [35, 'management', 1, 'tertiary', 747, 0, 'no', 'cellular', 23,\n",
       "        'feb'],\n",
       "       [36, 'self-employed', 0, 'tertiary', 307, 1, 'no', 'cellular', 14,\n",
       "        'may'],\n",
       "       [39, 'technician', 0, 'secondary', 147, 1, 'no', 'cellular', 6,\n",
       "        'may'],\n",
       "       [41, 'entrepreneur', 0, 'tertiary', 221, 1, 'no', 'unknown', 14,\n",
       "        'may'],\n",
       "       [43, 'services', 0, 'primary', -88, 1, 'yes', 'cellular', 17,\n",
       "        'apr'],\n",
       "       [39, 'services', 0, 'secondary', 9374, 1, 'no', 'unknown', 20,\n",
       "        'may'],\n",
       "       [43, 'admin.', 0, 'secondary', 264, 1, 'no', 'cellular', 17,\n",
       "        'apr'],\n",
       "       [36, 'technician', 0, 'tertiary', 1109, 0, 'no', 'cellular', 13,\n",
       "        'aug'],\n",
       "       [20, 'student', 1, 'secondary', 502, 0, 'no', 'cellular', 30,\n",
       "        'apr'],\n",
       "       [31, 'blue-collar', 0, 'secondary', 360, 1, 'yes', 'cellular', 29,\n",
       "        'jan'],\n",
       "       [40, 'management', 0, 'tertiary', 194, 0, 'yes', 'cellular', 29,\n",
       "        'may'],\n",
       "       [56, 'management', 0, 'secondary', 4073, 0, 'no', 'cellular', 27,\n",
       "        'aug'],\n",
       "       [37, 'admin.', 0, 'tertiary', 2317, 1, 'no', 'cellular', 20,\n",
       "        'apr'],\n",
       "       [25, 'blue-collar', 1, 'primary', -221, 1, 'no', 'unknown', 23,\n",
       "        'may']], dtype=object)"
      ]
     },
     "execution_count": 99,
     "metadata": {},
     "output_type": "execute_result"
    }
   ],
   "source": [
    "# housing\n",
    "housing_label_encoder= LabelEncoder()\n",
    "X[:,5]=housing_label_encoder.fit_transform(X[:,5])\n",
    "X"
   ]
  },
  {
   "cell_type": "code",
   "execution_count": 100,
   "metadata": {},
   "outputs": [
    {
     "data": {
      "text/plain": [
       "array([[30, 'unemployed', 0, 'primary', 1787, 0, 0, 'cellular', 19,\n",
       "        'oct'],\n",
       "       [33, 'services', 0, 'secondary', 4789, 1, 1, 'cellular', 11,\n",
       "        'may'],\n",
       "       [35, 'management', 1, 'secondary', 1350, 1, 0, 'cellular', 16,\n",
       "        'apr'],\n",
       "       [30, 'management', 0, 'tertiary', 1476, 1, 1, 'unknown', 3, 'jun'],\n",
       "       [59, 'blue-collar', 0, 'secondary', 0, 1, 0, 'unknown', 5, 'may'],\n",
       "       [35, 'management', 1, 'tertiary', 747, 0, 0, 'cellular', 23,\n",
       "        'feb'],\n",
       "       [36, 'self-employed', 0, 'tertiary', 307, 1, 0, 'cellular', 14,\n",
       "        'may'],\n",
       "       [39, 'technician', 0, 'secondary', 147, 1, 0, 'cellular', 6,\n",
       "        'may'],\n",
       "       [41, 'entrepreneur', 0, 'tertiary', 221, 1, 0, 'unknown', 14,\n",
       "        'may'],\n",
       "       [43, 'services', 0, 'primary', -88, 1, 1, 'cellular', 17, 'apr'],\n",
       "       [39, 'services', 0, 'secondary', 9374, 1, 0, 'unknown', 20, 'may'],\n",
       "       [43, 'admin.', 0, 'secondary', 264, 1, 0, 'cellular', 17, 'apr'],\n",
       "       [36, 'technician', 0, 'tertiary', 1109, 0, 0, 'cellular', 13,\n",
       "        'aug'],\n",
       "       [20, 'student', 1, 'secondary', 502, 0, 0, 'cellular', 30, 'apr'],\n",
       "       [31, 'blue-collar', 0, 'secondary', 360, 1, 1, 'cellular', 29,\n",
       "        'jan'],\n",
       "       [40, 'management', 0, 'tertiary', 194, 0, 1, 'cellular', 29,\n",
       "        'may'],\n",
       "       [56, 'management', 0, 'secondary', 4073, 0, 0, 'cellular', 27,\n",
       "        'aug'],\n",
       "       [37, 'admin.', 0, 'tertiary', 2317, 1, 0, 'cellular', 20, 'apr'],\n",
       "       [25, 'blue-collar', 1, 'primary', -221, 1, 0, 'unknown', 23,\n",
       "        'may']], dtype=object)"
      ]
     },
     "execution_count": 100,
     "metadata": {},
     "output_type": "execute_result"
    }
   ],
   "source": [
    "# loan\n",
    "loan_label_encoder= LabelEncoder()\n",
    "X[:,6]=loan_label_encoder.fit_transform(X[:,6])\n",
    "X"
   ]
  },
  {
   "cell_type": "code",
   "execution_count": 101,
   "metadata": {},
   "outputs": [
    {
     "data": {
      "text/plain": [
       "array([[30, 0, 'primary', 1787, 0, 0, 'cellular', 19, 'oct', 0.0, 0.0,\n",
       "        0.0, 0.0, 0.0, 0.0, 0.0, 0.0, 1.0],\n",
       "       [33, 0, 'secondary', 4789, 1, 1, 'cellular', 11, 'may', 0.0, 0.0,\n",
       "        0.0, 0.0, 0.0, 1.0, 0.0, 0.0, 0.0],\n",
       "       [35, 1, 'secondary', 1350, 1, 0, 'cellular', 16, 'apr', 0.0, 0.0,\n",
       "        0.0, 1.0, 0.0, 0.0, 0.0, 0.0, 0.0],\n",
       "       [30, 0, 'tertiary', 1476, 1, 1, 'unknown', 3, 'jun', 0.0, 0.0,\n",
       "        0.0, 1.0, 0.0, 0.0, 0.0, 0.0, 0.0],\n",
       "       [59, 0, 'secondary', 0, 1, 0, 'unknown', 5, 'may', 0.0, 1.0, 0.0,\n",
       "        0.0, 0.0, 0.0, 0.0, 0.0, 0.0],\n",
       "       [35, 1, 'tertiary', 747, 0, 0, 'cellular', 23, 'feb', 0.0, 0.0,\n",
       "        0.0, 1.0, 0.0, 0.0, 0.0, 0.0, 0.0],\n",
       "       [36, 0, 'tertiary', 307, 1, 0, 'cellular', 14, 'may', 0.0, 0.0,\n",
       "        0.0, 0.0, 1.0, 0.0, 0.0, 0.0, 0.0],\n",
       "       [39, 0, 'secondary', 147, 1, 0, 'cellular', 6, 'may', 0.0, 0.0,\n",
       "        0.0, 0.0, 0.0, 0.0, 0.0, 1.0, 0.0],\n",
       "       [41, 0, 'tertiary', 221, 1, 0, 'unknown', 14, 'may', 0.0, 0.0,\n",
       "        1.0, 0.0, 0.0, 0.0, 0.0, 0.0, 0.0],\n",
       "       [43, 0, 'primary', -88, 1, 1, 'cellular', 17, 'apr', 0.0, 0.0,\n",
       "        0.0, 0.0, 0.0, 1.0, 0.0, 0.0, 0.0],\n",
       "       [39, 0, 'secondary', 9374, 1, 0, 'unknown', 20, 'may', 0.0, 0.0,\n",
       "        0.0, 0.0, 0.0, 1.0, 0.0, 0.0, 0.0],\n",
       "       [43, 0, 'secondary', 264, 1, 0, 'cellular', 17, 'apr', 1.0, 0.0,\n",
       "        0.0, 0.0, 0.0, 0.0, 0.0, 0.0, 0.0],\n",
       "       [36, 0, 'tertiary', 1109, 0, 0, 'cellular', 13, 'aug', 0.0, 0.0,\n",
       "        0.0, 0.0, 0.0, 0.0, 0.0, 1.0, 0.0],\n",
       "       [20, 1, 'secondary', 502, 0, 0, 'cellular', 30, 'apr', 0.0, 0.0,\n",
       "        0.0, 0.0, 0.0, 0.0, 1.0, 0.0, 0.0],\n",
       "       [31, 0, 'secondary', 360, 1, 1, 'cellular', 29, 'jan', 0.0, 1.0,\n",
       "        0.0, 0.0, 0.0, 0.0, 0.0, 0.0, 0.0],\n",
       "       [40, 0, 'tertiary', 194, 0, 1, 'cellular', 29, 'may', 0.0, 0.0,\n",
       "        0.0, 1.0, 0.0, 0.0, 0.0, 0.0, 0.0],\n",
       "       [56, 0, 'secondary', 4073, 0, 0, 'cellular', 27, 'aug', 0.0, 0.0,\n",
       "        0.0, 1.0, 0.0, 0.0, 0.0, 0.0, 0.0],\n",
       "       [37, 0, 'tertiary', 2317, 1, 0, 'cellular', 20, 'apr', 1.0, 0.0,\n",
       "        0.0, 0.0, 0.0, 0.0, 0.0, 0.0, 0.0],\n",
       "       [25, 1, 'primary', -221, 1, 0, 'unknown', 23, 'may', 0.0, 1.0,\n",
       "        0.0, 0.0, 0.0, 0.0, 0.0, 0.0, 0.0]], dtype=object)"
      ]
     },
     "execution_count": 101,
     "metadata": {},
     "output_type": "execute_result"
    }
   ],
   "source": [
    "# job\n",
    "job_onehot = OneHotEncoder()\n",
    "temp=job_onehot.fit_transform(X[:,1].reshape(-1,1)).toarray()\n",
    "X=np.concatenate((X,temp),axis=1)\n",
    "X=np.delete(X,1,axis=1)\n",
    "X"
   ]
  },
  {
   "cell_type": "code",
   "execution_count": 102,
   "metadata": {},
   "outputs": [
    {
     "data": {
      "text/plain": [
       "array([[30, 0, 0, 1787, 0, 0, 'cellular', 19, 'oct', 0.0, 0.0, 0.0, 0.0,\n",
       "        0.0, 0.0, 0.0, 0.0, 1.0],\n",
       "       [33, 0, 1, 4789, 1, 1, 'cellular', 11, 'may', 0.0, 0.0, 0.0, 0.0,\n",
       "        0.0, 1.0, 0.0, 0.0, 0.0],\n",
       "       [35, 1, 1, 1350, 1, 0, 'cellular', 16, 'apr', 0.0, 0.0, 0.0, 1.0,\n",
       "        0.0, 0.0, 0.0, 0.0, 0.0],\n",
       "       [30, 0, 2, 1476, 1, 1, 'unknown', 3, 'jun', 0.0, 0.0, 0.0, 1.0,\n",
       "        0.0, 0.0, 0.0, 0.0, 0.0],\n",
       "       [59, 0, 1, 0, 1, 0, 'unknown', 5, 'may', 0.0, 1.0, 0.0, 0.0, 0.0,\n",
       "        0.0, 0.0, 0.0, 0.0],\n",
       "       [35, 1, 2, 747, 0, 0, 'cellular', 23, 'feb', 0.0, 0.0, 0.0, 1.0,\n",
       "        0.0, 0.0, 0.0, 0.0, 0.0],\n",
       "       [36, 0, 2, 307, 1, 0, 'cellular', 14, 'may', 0.0, 0.0, 0.0, 0.0,\n",
       "        1.0, 0.0, 0.0, 0.0, 0.0],\n",
       "       [39, 0, 1, 147, 1, 0, 'cellular', 6, 'may', 0.0, 0.0, 0.0, 0.0,\n",
       "        0.0, 0.0, 0.0, 1.0, 0.0],\n",
       "       [41, 0, 2, 221, 1, 0, 'unknown', 14, 'may', 0.0, 0.0, 1.0, 0.0,\n",
       "        0.0, 0.0, 0.0, 0.0, 0.0],\n",
       "       [43, 0, 0, -88, 1, 1, 'cellular', 17, 'apr', 0.0, 0.0, 0.0, 0.0,\n",
       "        0.0, 1.0, 0.0, 0.0, 0.0],\n",
       "       [39, 0, 1, 9374, 1, 0, 'unknown', 20, 'may', 0.0, 0.0, 0.0, 0.0,\n",
       "        0.0, 1.0, 0.0, 0.0, 0.0],\n",
       "       [43, 0, 1, 264, 1, 0, 'cellular', 17, 'apr', 1.0, 0.0, 0.0, 0.0,\n",
       "        0.0, 0.0, 0.0, 0.0, 0.0],\n",
       "       [36, 0, 2, 1109, 0, 0, 'cellular', 13, 'aug', 0.0, 0.0, 0.0, 0.0,\n",
       "        0.0, 0.0, 0.0, 1.0, 0.0],\n",
       "       [20, 1, 1, 502, 0, 0, 'cellular', 30, 'apr', 0.0, 0.0, 0.0, 0.0,\n",
       "        0.0, 0.0, 1.0, 0.0, 0.0],\n",
       "       [31, 0, 1, 360, 1, 1, 'cellular', 29, 'jan', 0.0, 1.0, 0.0, 0.0,\n",
       "        0.0, 0.0, 0.0, 0.0, 0.0],\n",
       "       [40, 0, 2, 194, 0, 1, 'cellular', 29, 'may', 0.0, 0.0, 0.0, 1.0,\n",
       "        0.0, 0.0, 0.0, 0.0, 0.0],\n",
       "       [56, 0, 1, 4073, 0, 0, 'cellular', 27, 'aug', 0.0, 0.0, 0.0, 1.0,\n",
       "        0.0, 0.0, 0.0, 0.0, 0.0],\n",
       "       [37, 0, 2, 2317, 1, 0, 'cellular', 20, 'apr', 1.0, 0.0, 0.0, 0.0,\n",
       "        0.0, 0.0, 0.0, 0.0, 0.0],\n",
       "       [25, 1, 0, -221, 1, 0, 'unknown', 23, 'may', 0.0, 1.0, 0.0, 0.0,\n",
       "        0.0, 0.0, 0.0, 0.0, 0.0]], dtype=object)"
      ]
     },
     "execution_count": 102,
     "metadata": {},
     "output_type": "execute_result"
    }
   ],
   "source": [
    "# education, 2 vì đã xóa cột job\n",
    "education_label_encoder= LabelEncoder()\n",
    "X[:,2]=education_label_encoder.fit_transform(X[:,2])\n",
    "X"
   ]
  },
  {
   "cell_type": "code",
   "execution_count": 103,
   "metadata": {},
   "outputs": [
    {
     "data": {
      "text/plain": [
       "array([[30, 0, 0, 1787, 0, 0, 19, 'oct', 0.0, 0.0, 0.0, 0.0, 0.0, 0.0,\n",
       "        0.0, 0.0, 1.0, 1.0, 0.0],\n",
       "       [33, 0, 1, 4789, 1, 1, 11, 'may', 0.0, 0.0, 0.0, 0.0, 0.0, 1.0,\n",
       "        0.0, 0.0, 0.0, 1.0, 0.0],\n",
       "       [35, 1, 1, 1350, 1, 0, 16, 'apr', 0.0, 0.0, 0.0, 1.0, 0.0, 0.0,\n",
       "        0.0, 0.0, 0.0, 1.0, 0.0],\n",
       "       [30, 0, 2, 1476, 1, 1, 3, 'jun', 0.0, 0.0, 0.0, 1.0, 0.0, 0.0,\n",
       "        0.0, 0.0, 0.0, 0.0, 1.0],\n",
       "       [59, 0, 1, 0, 1, 0, 5, 'may', 0.0, 1.0, 0.0, 0.0, 0.0, 0.0, 0.0,\n",
       "        0.0, 0.0, 0.0, 1.0],\n",
       "       [35, 1, 2, 747, 0, 0, 23, 'feb', 0.0, 0.0, 0.0, 1.0, 0.0, 0.0,\n",
       "        0.0, 0.0, 0.0, 1.0, 0.0],\n",
       "       [36, 0, 2, 307, 1, 0, 14, 'may', 0.0, 0.0, 0.0, 0.0, 1.0, 0.0,\n",
       "        0.0, 0.0, 0.0, 1.0, 0.0],\n",
       "       [39, 0, 1, 147, 1, 0, 6, 'may', 0.0, 0.0, 0.0, 0.0, 0.0, 0.0, 0.0,\n",
       "        1.0, 0.0, 1.0, 0.0],\n",
       "       [41, 0, 2, 221, 1, 0, 14, 'may', 0.0, 0.0, 1.0, 0.0, 0.0, 0.0,\n",
       "        0.0, 0.0, 0.0, 0.0, 1.0],\n",
       "       [43, 0, 0, -88, 1, 1, 17, 'apr', 0.0, 0.0, 0.0, 0.0, 0.0, 1.0,\n",
       "        0.0, 0.0, 0.0, 1.0, 0.0],\n",
       "       [39, 0, 1, 9374, 1, 0, 20, 'may', 0.0, 0.0, 0.0, 0.0, 0.0, 1.0,\n",
       "        0.0, 0.0, 0.0, 0.0, 1.0],\n",
       "       [43, 0, 1, 264, 1, 0, 17, 'apr', 1.0, 0.0, 0.0, 0.0, 0.0, 0.0,\n",
       "        0.0, 0.0, 0.0, 1.0, 0.0],\n",
       "       [36, 0, 2, 1109, 0, 0, 13, 'aug', 0.0, 0.0, 0.0, 0.0, 0.0, 0.0,\n",
       "        0.0, 1.0, 0.0, 1.0, 0.0],\n",
       "       [20, 1, 1, 502, 0, 0, 30, 'apr', 0.0, 0.0, 0.0, 0.0, 0.0, 0.0,\n",
       "        1.0, 0.0, 0.0, 1.0, 0.0],\n",
       "       [31, 0, 1, 360, 1, 1, 29, 'jan', 0.0, 1.0, 0.0, 0.0, 0.0, 0.0,\n",
       "        0.0, 0.0, 0.0, 1.0, 0.0],\n",
       "       [40, 0, 2, 194, 0, 1, 29, 'may', 0.0, 0.0, 0.0, 1.0, 0.0, 0.0,\n",
       "        0.0, 0.0, 0.0, 1.0, 0.0],\n",
       "       [56, 0, 1, 4073, 0, 0, 27, 'aug', 0.0, 0.0, 0.0, 1.0, 0.0, 0.0,\n",
       "        0.0, 0.0, 0.0, 1.0, 0.0],\n",
       "       [37, 0, 2, 2317, 1, 0, 20, 'apr', 1.0, 0.0, 0.0, 0.0, 0.0, 0.0,\n",
       "        0.0, 0.0, 0.0, 1.0, 0.0],\n",
       "       [25, 1, 0, -221, 1, 0, 23, 'may', 0.0, 1.0, 0.0, 0.0, 0.0, 0.0,\n",
       "        0.0, 0.0, 0.0, 0.0, 1.0]], dtype=object)"
      ]
     },
     "execution_count": 103,
     "metadata": {},
     "output_type": "execute_result"
    }
   ],
   "source": [
    "# contact, vị trí là 6 vì đã xóa cột job\n",
    "contact_onehot = OneHotEncoder()\n",
    "temp=contact_onehot.fit_transform(X[:,6].reshape(-1,1)).toarray()\n",
    "X=np.concatenate((X,temp),axis=1)\n",
    "X=np.delete(X,6,axis=1)\n",
    "X"
   ]
  },
  {
   "cell_type": "code",
   "execution_count": null,
   "metadata": {},
   "outputs": [],
   "source": []
  }
 ],
 "metadata": {
  "kernelspec": {
   "display_name": "Python 3",
   "language": "python",
   "name": "python3"
  },
  "language_info": {
   "codemirror_mode": {
    "name": "ipython",
    "version": 3
   },
   "file_extension": ".py",
   "mimetype": "text/x-python",
   "name": "python",
   "nbconvert_exporter": "python",
   "pygments_lexer": "ipython3",
   "version": "3.6.0"
  }
 },
 "nbformat": 4,
 "nbformat_minor": 2
}
